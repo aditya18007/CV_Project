{
 "cells": [
  {
   "cell_type": "code",
   "execution_count": null,
   "metadata": {},
   "outputs": [],
   "source": [
    "%load_ext autoreload\n",
    "%autoreload 2\n"
   ]
  },
  {
   "cell_type": "code",
   "execution_count": null,
   "metadata": {},
   "outputs": [],
   "source": [
    "from src.data_loader import read_data\n",
    "\n",
    "train_data = read_data('train')\n",
    "val_data = read_data('val')\n",
    "test_data = read_data('test')"
   ]
  },
  {
   "cell_type": "code",
   "execution_count": null,
   "metadata": {},
   "outputs": [],
   "source": [
    "from src.config import BATCH_SIZE\n",
    "import random \n",
    "import numpy as np \n",
    "import torch \n",
    "\n",
    "from src.networks.CLIP_Basic import CLIP_only_dataset\n",
    "\n",
    "def seed_worker(worker_id):\n",
    "    worker_seed = torch.initial_seed() % 2**32\n",
    "    np.random.seed(worker_seed)\n",
    "    random.seed(worker_seed)\n",
    "g = torch.Generator()\n",
    "g.manual_seed(0)\n",
    "\n",
    "def get_dataloader(data):\n",
    "    dataset = CLIP_only_dataset(data)\n",
    "    data_loader = torch.utils.data.DataLoader(dataset, batch_size=BATCH_SIZE,shuffle=True, worker_init_fn=seed_worker, generator=g)\n",
    "    return data_loader\n",
    "    \n",
    "train_loader = get_dataloader(train_data)\n",
    "val_loader = get_dataloader(val_data)\n",
    "test_loader = get_dataloader(test_data)"
   ]
  },
  {
   "cell_type": "code",
   "execution_count": null,
   "metadata": {},
   "outputs": [],
   "source": [
    "from src.trainer import Trainer\n",
    "from src.networks.CLIP_Basic import CLIP_only_Model, CLIP_only_Input_transformer\n",
    "import torch.nn as nn\n",
    "import torch \n",
    "\n",
    "trainer = Trainer(12)\n",
    "\n",
    "#Set data\n",
    "trainer.set_data(train_loader, val_loader)\n",
    "\n",
    "#set model \n",
    "model = CLIP_only_Model().cuda()\n",
    "input_transformer = CLIP_only_Input_transformer()\n",
    "trainer.set_model(model, input_transformer)\n",
    "\n",
    "#Backpropagation\n",
    "loss_fn = nn.BCELoss()\n",
    "optimizer = torch.optim.Adam(model.parameters(), lr=5e-4)\n",
    "trainer.set_optimizer(optimizer, loss_fn)\n",
    "trainer.train(l2_r=1e-3)\n",
    "trainer.plot()"
   ]
  },
  {
   "cell_type": "code",
   "execution_count": null,
   "metadata": {},
   "outputs": [],
   "source": [
    "trainer.test(test_loader)"
   ]
  },
  {
   "cell_type": "code",
   "execution_count": null,
   "metadata": {},
   "outputs": [],
   "source": [
    "torch.save(model.state_dict(), f\"Models/CLIP_Basic.model\")"
   ]
  }
 ],
 "metadata": {
  "interpreter": {
   "hash": "77f3f2a652918cbc2ce813c94ad2fe3b9100ef7d4c5aa2a176dc658ad31bcd64"
  },
  "kernelspec": {
   "display_name": "Python 3.9.10 64-bit",
   "language": "python",
   "name": "python3"
  },
  "language_info": {
   "codemirror_mode": {
    "name": "ipython",
    "version": 3
   },
   "file_extension": ".py",
   "mimetype": "text/x-python",
   "name": "python",
   "nbconvert_exporter": "python",
   "pygments_lexer": "ipython3",
   "version": "3.9.10"
  },
  "orig_nbformat": 4
 },
 "nbformat": 4,
 "nbformat_minor": 2
}
