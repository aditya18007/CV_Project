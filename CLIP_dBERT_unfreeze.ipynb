{
 "cells": [
  {
   "cell_type": "code",
   "execution_count": 1,
   "metadata": {},
   "outputs": [],
   "source": [
    "%load_ext autoreload\n",
    "%autoreload 2\n"
   ]
  },
  {
   "cell_type": "code",
   "execution_count": 2,
   "metadata": {},
   "outputs": [
    {
     "name": "stderr",
     "output_type": "stream",
     "text": [
      "100%|██████████| 687/687 [00:00<00:00, 4328.84it/s]\n",
      "100%|██████████| 63/63 [00:00<00:00, 4210.95it/s]\n",
      "100%|██████████| 200/200 [00:00<00:00, 4557.84it/s]\n"
     ]
    }
   ],
   "source": [
    "from src.data_loader import read_data\n",
    "\n",
    "train_data = read_data('train')\n",
    "val_data = read_data('val')\n",
    "test_data = read_data('test')"
   ]
  },
  {
   "cell_type": "code",
   "execution_count": 3,
   "metadata": {},
   "outputs": [],
   "source": [
    "import clip.clip as clip \n",
    "\n",
    "CLIP_MODEL,  clip_img_processor =clip.load('ViT-B/32', jit=False)"
   ]
  },
  {
   "cell_type": "code",
   "execution_count": 4,
   "metadata": {},
   "outputs": [
    {
     "name": "stderr",
     "output_type": "stream",
     "text": [
      "distilBERT Tokenizer: 100%|██████████| 687/687 [00:00<00:00, 1620.92it/s]\n",
      "CLIP preprocessing: 100%|██████████| 687/687 [00:14<00:00, 47.72it/s]\n",
      "distilBERT Tokenizer: 100%|██████████| 63/63 [00:00<00:00, 1756.19it/s]\n",
      "CLIP preprocessing: 100%|██████████| 63/63 [00:01<00:00, 46.76it/s]\n",
      "distilBERT Tokenizer: 100%|██████████| 200/200 [00:00<00:00, 1699.06it/s]\n",
      "CLIP preprocessing: 100%|██████████| 200/200 [00:03<00:00, 58.70it/s]\n"
     ]
    }
   ],
   "source": [
    "from src.config import BATCH_SIZE\n",
    "import random \n",
    "import numpy as np \n",
    "import torch \n",
    "\n",
    "from src.networks.CLIP_distilBERT_unfreeze import CLIP_dBERT_unfreezed_layers_dataset\n",
    "\n",
    "def seed_worker(worker_id):\n",
    "    worker_seed = torch.initial_seed() % 2**32\n",
    "    np.random.seed(worker_seed)\n",
    "    random.seed(worker_seed)\n",
    "g = torch.Generator()\n",
    "g.manual_seed(0)\n",
    "\n",
    "def get_dataloader(data):\n",
    "    dataset = CLIP_dBERT_unfreezed_layers_dataset(data, clip_img_processor)\n",
    "    data_loader = torch.utils.data.DataLoader(dataset, batch_size=BATCH_SIZE,shuffle=True, worker_init_fn=seed_worker, generator=g)\n",
    "    return data_loader\n",
    "    \n",
    "train_loader = get_dataloader(train_data)\n",
    "val_loader = get_dataloader(val_data)\n",
    "test_loader = get_dataloader(test_data)"
   ]
  },
  {
   "cell_type": "code",
   "execution_count": 5,
   "metadata": {},
   "outputs": [],
   "source": [
    "from src.trainer import Trainer\n",
    "from src.networks.CLIP_distilBERT_unfreeze import CLIP_dBERT_unfreezed_layers_Input_transformer, CLIP_dBERT_unfreezed_layers_Model\n",
    "import torch.nn as nn\n",
    "import torch \n",
    "\n",
    "trainer = Trainer(12)\n",
    "\n",
    "#Set data\n",
    "trainer.set_data(train_loader, val_loader)\n",
    "\n",
    "#set model \n",
    "model = CLIP_dBERT_unfreezed_layers_Model(CLIP_MODEL).cuda()\n",
    "input_transformer = CLIP_dBERT_unfreezed_layers_Input_transformer()\n",
    "trainer.set_model(model, input_transformer)\n",
    "\n",
    "#Backpropagation\n",
    "loss_fn = nn.BCELoss()\n",
    "optimizer = torch.optim.Adam(model.parameters(), lr=5e-4)\n",
    "trainer.set_optimizer(optimizer, loss_fn)\n",
    "trainer.train(l2_r=1e-3)\n",
    "trainer.plot()"
   ]
  },
  {
   "cell_type": "code",
   "execution_count": null,
   "metadata": {},
   "outputs": [],
   "source": [
    "trainer.test(test_loader)"
   ]
  },
  {
   "cell_type": "code",
   "execution_count": null,
   "metadata": {},
   "outputs": [],
   "source": [
    "torch.save(model.state_dict(), f\"Models/CLIP_distilBERT_unfreeze.model\")\n"
   ]
  }
 ],
 "metadata": {
  "interpreter": {
   "hash": "77f3f2a652918cbc2ce813c94ad2fe3b9100ef7d4c5aa2a176dc658ad31bcd64"
  },
  "kernelspec": {
   "display_name": "Python 3.9.10 64-bit",
   "language": "python",
   "name": "python3"
  },
  "language_info": {
   "codemirror_mode": {
    "name": "ipython",
    "version": 3
   },
   "file_extension": ".py",
   "mimetype": "text/x-python",
   "name": "python",
   "nbconvert_exporter": "python",
   "pygments_lexer": "ipython3",
   "version": "3.9.10"
  },
  "orig_nbformat": 4
 },
 "nbformat": 4,
 "nbformat_minor": 2
}
