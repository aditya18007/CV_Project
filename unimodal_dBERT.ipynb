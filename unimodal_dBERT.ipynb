{
 "cells": [
  {
   "cell_type": "code",
   "execution_count": null,
   "metadata": {},
   "outputs": [],
   "source": [
    "%load_ext autoreload\n",
    "%autoreload 2"
   ]
  },
  {
   "cell_type": "code",
   "execution_count": null,
   "metadata": {},
   "outputs": [],
   "source": [
    "from src.config import BATCH_SIZE\n",
    "import random \n",
    "import numpy as np \n",
    "import torch \n",
    "from src.data_loader import read_data\n",
    "from src.networks.unimodal_BERT import unimodal_dBERT_Dataset\n",
    "\n",
    "def seed_worker(worker_id):\n",
    "    worker_seed = torch.initial_seed() % 2**32\n",
    "    np.random.seed(worker_seed)\n",
    "    random.seed(worker_seed)\n",
    "g = torch.Generator()\n",
    "g.manual_seed(0)\n",
    "\n",
    "def get_dataloader(data_type):\n",
    "    data = read_data(data_type)\n",
    "    dataset = unimodal_dBERT_Dataset(data)\n",
    "    data_loader = torch.utils.data.DataLoader(dataset, batch_size=BATCH_SIZE,shuffle=True, worker_init_fn=seed_worker, generator=g)\n",
    "    return data_loader"
   ]
  },
  {
   "cell_type": "code",
   "execution_count": null,
   "metadata": {},
   "outputs": [],
   "source": [
    "train_loader = get_dataloader('train')\n",
    "val_loader = get_dataloader('val')\n",
    "test_loader = get_dataloader('test')"
   ]
  },
  {
   "cell_type": "code",
   "execution_count": null,
   "metadata": {},
   "outputs": [],
   "source": [
    "from src.trainer import Trainer\n",
    "from src.networks.unimodal_BERT import unimodal_dBERT_Model, unimodal_dBERT_Input_transformer\n",
    "import torch.nn as nn\n",
    "import torch \n",
    "\n",
    "trainer = Trainer(10)\n",
    "\n",
    "#Set data\n",
    "trainer.set_data(train_loader, val_loader)\n",
    "\n",
    "#set model \n",
    "model = unimodal_dBERT_Model().cuda()\n",
    "input_transformer = unimodal_dBERT_Input_transformer()\n",
    "trainer.set_model(model, input_transformer)\n",
    "\n",
    "#Backpropagation\n",
    "loss_fn = nn.BCELoss()\n",
    "optimizer = torch.optim.Adam(model.parameters())\n",
    "trainer.set_optimizer(optimizer, loss_fn)\n",
    "trainer.train()"
   ]
  },
  {
   "cell_type": "code",
   "execution_count": null,
   "metadata": {},
   "outputs": [],
   "source": [
    "trainer.test(test_loader)"
   ]
  }
 ],
 "metadata": {
  "interpreter": {
   "hash": "916dbcbb3f70747c44a77c7bcd40155683ae19c65e1c03b4aa3499c5328201f1"
  },
  "kernelspec": {
   "display_name": "Python 3.10.4 64-bit",
   "language": "python",
   "name": "python3"
  },
  "language_info": {
   "codemirror_mode": {
    "name": "ipython",
    "version": 3
   },
   "file_extension": ".py",
   "mimetype": "text/x-python",
   "name": "python",
   "nbconvert_exporter": "python",
   "pygments_lexer": "ipython3",
   "version": "3.9.10"
  },
  "orig_nbformat": 4
 },
 "nbformat": 4,
 "nbformat_minor": 2
}
